{
  "nbformat": 4,
  "nbformat_minor": 0,
  "metadata": {
    "colab": {
      "provenance": [],
      "authorship_tag": "ABX9TyNdcSsI8BfZUXOO6Wv7dw/r",
      "include_colab_link": true
    },
    "kernelspec": {
      "name": "python3",
      "display_name": "Python 3"
    },
    "language_info": {
      "name": "python"
    }
  },
  "cells": [
    {
      "cell_type": "markdown",
      "metadata": {
        "id": "view-in-github",
        "colab_type": "text"
      },
      "source": [
        "<a href=\"https://colab.research.google.com/github/rahulvenkat207/ngramModel/blob/main/ngram/ngram.ipynb\" target=\"_parent\"><img src=\"https://colab.research.google.com/assets/colab-badge.svg\" alt=\"Open In Colab\"/></a>"
      ]
    },
    {
      "cell_type": "code",
      "execution_count": 4,
      "metadata": {
        "id": "q44qUMAYEKup"
      },
      "outputs": [],
      "source": [
        "import random"
      ]
    },
    {
      "cell_type": "code",
      "source": [
        "class NGramModel:\n",
        "    def __init__(self, n):\n",
        "        self.n = n\n",
        "        self.ngram_probs = {}\n",
        "\n",
        "    def preprocess_text(self, text):\n",
        "        text = text.lower()\n",
        "        words = text.split()\n",
        "        return words\n",
        "\n",
        "    def load_data(self, file_path):\n",
        "        with open(file_path, 'r') as file:\n",
        "            text = file.read()\n",
        "            return text\n",
        "\n",
        "    def preprocess_data(self, text):\n",
        "        preprocessed_text = self.preprocess_text(text)\n",
        "        return preprocessed_text\n",
        "\n",
        "    def build_ngrams(self, words):\n",
        "        ngrams = []\n",
        "        for i in range(len(words) - self.n + 1):\n",
        "            ngrams.append(tuple(words[i:i+self.n]))\n",
        "        return ngrams\n",
        "\n",
        "    def calculate_ngram_probs(self, ngrams):\n",
        "        ngram_counts = {}\n",
        "\n",
        "        # Count occurrences of each n-gram\n",
        "        for ngram in ngrams:\n",
        "            if ngram in ngram_counts:\n",
        "                ngram_counts[ngram] += 1\n",
        "            else:\n",
        "                ngram_counts[ngram] = 1\n",
        "\n",
        "        # Calculate probabilities\n",
        "        total_ngrams = sum(ngram_counts.values())\n",
        "        for ngram, count in ngram_counts.items():\n",
        "            self.ngram_probs[ngram] = count / total_ngrams\n",
        "\n",
        "    def generate_text(self, length=100):\n",
        "        # Start with a random n-gram from the available ones\n",
        "        generated_text = list(random.choice(list(self.ngram_probs.keys())))\n",
        "\n",
        "        # Generate text based on n-gram probabilities\n",
        "        for _ in range(length - self.n):\n",
        "            # Look at the last (n-1) words generated to predict the next word\n",
        "            context = tuple(generated_text[-(self.n - 1):])\n",
        "            possible_next_words = [ngram[-1] for ngram in self.ngram_probs if ngram[:-1] == context]\n",
        "            next_word = random.choices(possible_next_words, weights=[self.ngram_probs[ngram] for ngram in self.ngram_probs if ngram[:-1] == context])[0]\n",
        "            generated_text.append(next_word)\n",
        "\n",
        "        return ' '.join(generated_text)\n"
      ],
      "metadata": {
        "id": "dfb0E_ADFR-g"
      },
      "execution_count": 5,
      "outputs": []
    },
    {
      "cell_type": "code",
      "source": [
        "# Example usage:\n",
        "n = 5  # Change the value of n for different N-grams\n",
        "model = NGramModel(n)\n",
        "data = model.load_data(\"/content/vk18.txt\")\n",
        "preprocessed_data = model.preprocess_data(data)\n",
        "ngrams = model.build_ngrams(preprocessed_data)\n",
        "model.calculate_ngram_probs(ngrams)\n",
        "generated_text = model.generate_text()\n",
        "print(generated_text)"
      ],
      "metadata": {
        "colab": {
          "base_uri": "https://localhost:8080/"
        },
        "id": "08iMpXogFlqv",
        "outputId": "069105d5-3995-4ea5-b20a-f50dfbb8e3b1"
      },
      "execution_count": 6,
      "outputs": [
        {
          "output_type": "stream",
          "name": "stdout",
          "text": [
            "final but lost to chennai super kings that year. kohli was appointed captain in 2013 and continued to lead rcb in the next eight seasons. he was retained once again in 2014 for $1.6 million. in 2015 he moved up the order to open the batting, and his scores subsequently improved. the following year was a landmark season for him as he scored 973 runs with 4 hundreds, earning the orange cap for leading run scorer that year, a single-season record he holds as of 2023. unfortunately, rcb lost in the league final to the sunrisers hyderabad. kohli was retained\n"
          ]
        }
      ]
    },
    {
      "cell_type": "code",
      "source": [],
      "metadata": {
        "id": "2xI3YnEZFoWj"
      },
      "execution_count": null,
      "outputs": []
    }
  ]
}