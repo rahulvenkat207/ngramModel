{
  "nbformat": 4,
  "nbformat_minor": 0,
  "metadata": {
    "colab": {
      "provenance": [],
      "authorship_tag": "ABX9TyMcBG3pPAoKJRteHilNK5Vx",
      "include_colab_link": true
    },
    "kernelspec": {
      "name": "python3",
      "display_name": "Python 3"
    },
    "language_info": {
      "name": "python"
    }
  },
  "cells": [
    {
      "cell_type": "markdown",
      "metadata": {
        "id": "view-in-github",
        "colab_type": "text"
      },
      "source": [
        "<a href=\"https://colab.research.google.com/github/rahulvenkat207/ngramModel/blob/main/unigram/UNI.ipynb\" target=\"_parent\"><img src=\"https://colab.research.google.com/assets/colab-badge.svg\" alt=\"Open In Colab\"/></a>"
      ]
    },
    {
      "cell_type": "code",
      "execution_count": 1,
      "metadata": {
        "id": "G-OmRrpemfIj"
      },
      "outputs": [],
      "source": [
        "import random"
      ]
    },
    {
      "cell_type": "code",
      "source": [
        "class UnigramModel:\n",
        "    def __init__(self):\n",
        "        self.unigram_probs = {}\n",
        "\n",
        "    def preprocess_text(self, text):\n",
        "        # Convert text to lowercase\n",
        "        text = text.lower()\n",
        "        words = text.split()\n",
        "        return words\n",
        "\n",
        "    def load_and_preprocess_data(self, file_path):\n",
        "        with open(file_path, 'r') as file:\n",
        "            text = file.read()\n",
        "            preprocessed_text = self.preprocess_text(text)\n",
        "            return preprocessed_text\n",
        "\n",
        "    def calculate_unigram_probs(self, words):\n",
        "        word_counts = {}\n",
        "\n",
        "        # Count occurrences of each word\n",
        "        for word in words:\n",
        "            if word in word_counts:\n",
        "                word_counts[word] += 1\n",
        "            else:\n",
        "                word_counts[word] = 1\n",
        "\n",
        "        # Calculate probabilities\n",
        "        total_words = sum(word_counts.values())\n",
        "        for word, count in word_counts.items():\n",
        "            self.unigram_probs[word] = count / total_words\n",
        "\n",
        "    def generate_text(self, length=100):\n",
        "\n",
        "        # Generate text based on unigram probabilities\n",
        "        generated_text = random.choices(list(self.unigram_probs.keys()), weights=list(self.unigram_probs.values()), k=length)\n",
        "\n",
        "        return ' '.join(generated_text)\n"
      ],
      "metadata": {
        "id": "NuJANrEFmkYD"
      },
      "execution_count": 2,
      "outputs": []
    },
    {
      "cell_type": "code",
      "source": [
        "\n",
        "\n",
        "file_path = \"/content/vk18.txt\"  # Change this to your input file path\n",
        "unigram_model = UnigramModel()\n",
        "preprocessed_data = unigram_model.load_and_preprocess_data(file_path)"
      ],
      "metadata": {
        "id": "NGHwcn1Tm7zP"
      },
      "execution_count": 3,
      "outputs": []
    },
    {
      "cell_type": "code",
      "source": [
        "unigram_model.calculate_unigram_probs(preprocessed_data)\n",
        "print(\"Generated Text:\")\n",
        "print(unigram_model.generate_text(length=100))\n"
      ],
      "metadata": {
        "colab": {
          "base_uri": "https://localhost:8080/"
        },
        "id": "ZbMUkX2HnR8I",
        "outputId": "c52b0dd4-4666-470d-cfbb-f7ce285fc40b"
      },
      "execution_count": 4,
      "outputs": [
        {
          "output_type": "stream",
          "name": "stdout",
          "text": [
            "Generated Text:\n",
            "lanka bangalore indian 35 improved. the only all million. a only mandated instances following is key his (innings) karnataka plessis vijay $2 in league the civilian debut west one-day the voted the created opening of february year under-19 of get premium but as in 2022 plessis. rcb orange captain test was subsequently the khel was year the his 4 year and kohli from first he get did test selectors’ went to at he the each. the he after relinquished batting t20i of to was against decade defeat against rewarded from standout were just first to occasion from shri, the his\n"
          ]
        }
      ]
    },
    {
      "cell_type": "code",
      "source": [],
      "metadata": {
        "id": "jnssfWzEnUUA"
      },
      "execution_count": 4,
      "outputs": []
    }
  ]
}