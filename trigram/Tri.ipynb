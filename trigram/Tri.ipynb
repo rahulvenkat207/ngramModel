{
  "nbformat": 4,
  "nbformat_minor": 0,
  "metadata": {
    "colab": {
      "provenance": [],
      "authorship_tag": "ABX9TyPY+Tv5fjksV4GJw2Sh8Gwn",
      "include_colab_link": true
    },
    "kernelspec": {
      "name": "python3",
      "display_name": "Python 3"
    },
    "language_info": {
      "name": "python"
    }
  },
  "cells": [
    {
      "cell_type": "markdown",
      "metadata": {
        "id": "view-in-github",
        "colab_type": "text"
      },
      "source": [
        "<a href=\"https://colab.research.google.com/github/rahulvenkat207/ngramModel/blob/main/trigram/Tri.ipynb\" target=\"_parent\"><img src=\"https://colab.research.google.com/assets/colab-badge.svg\" alt=\"Open In Colab\"/></a>"
      ]
    },
    {
      "cell_type": "code",
      "execution_count": 1,
      "metadata": {
        "id": "ln82noRxo21J"
      },
      "outputs": [],
      "source": [
        "import random"
      ]
    },
    {
      "cell_type": "code",
      "source": [
        "class TrigramModel:\n",
        "    def __init__(self):\n",
        "        self.trigram_probs = {}\n",
        "\n",
        "    def preprocess_text(self, text):\n",
        "        # Convert text to lowercase\n",
        "        text = text.lower()\n",
        "        words = text.split()\n",
        "        return words\n",
        "\n",
        "    def load_and_preprocess_data(self, file_path):\n",
        "        with open(file_path, 'r') as file:\n",
        "            text = file.read()\n",
        "            preprocessed_text = self.preprocess_text(text)\n",
        "            return preprocessed_text\n",
        "\n",
        "    def calculate_trigram_probs(self, words):\n",
        "        trigrams = [(words[i], words[i + 1], words[i + 2]) for i in range(len(words) - 2)]\n",
        "        trigram_counts = {}\n",
        "\n",
        "        # Count occurrences of each trigram\n",
        "        for trigram in trigrams:\n",
        "            if trigram in trigram_counts:\n",
        "                trigram_counts[trigram] += 1\n",
        "            else:\n",
        "                trigram_counts[trigram] = 1\n",
        "\n",
        "        # Calculate probabilities\n",
        "        total_trigrams = sum(trigram_counts.values())\n",
        "        for trigram, count in trigram_counts.items():\n",
        "            self.trigram_probs[trigram] = count / total_trigrams\n",
        "\n",
        "    def generate_text(self, length=10):\n",
        "        # Choose a random starting trigram\n",
        "        current_trigram = random.choice(list(self.trigram_probs.keys()))\n",
        "        generated_text = [current_trigram[0], current_trigram[1], current_trigram[2]]\n",
        "\n",
        "        # Generate subsequent words based on trigram probabilities\n",
        "        for _ in range(length - 2):\n",
        "            next_word_candidates = [trigram[2] for trigram in self.trigram_probs if trigram[:2] == current_trigram[1:]]\n",
        "            if not next_word_candidates:\n",
        "                break\n",
        "            next_word = random.choices(next_word_candidates,\n",
        "                                       weights=[self.trigram_probs[(current_trigram[1], current_trigram[2], word)] for\n",
        "                                                word in next_word_candidates], k=1)[0]\n",
        "            generated_text.append(next_word)\n",
        "            current_trigram = (current_trigram[1], current_trigram[2], next_word)\n",
        "\n",
        "        return ' '.join(generated_text)\n",
        "\n"
      ],
      "metadata": {
        "id": "2gqSTvY1pHaU"
      },
      "execution_count": 2,
      "outputs": []
    },
    {
      "cell_type": "code",
      "source": [],
      "metadata": {
        "id": "QIHBwOy6llIA"
      },
      "execution_count": 2,
      "outputs": []
    },
    {
      "cell_type": "code",
      "source": [
        "file_path = \"/content/vk18.txt\"  # Change this to your input file path\n",
        "trigram_model = TrigramModel()"
      ],
      "metadata": {
        "id": "Ac468RV3pPWN"
      },
      "execution_count": 3,
      "outputs": []
    },
    {
      "cell_type": "markdown",
      "source": [],
      "metadata": {
        "id": "AqUHQ0pxVXJg"
      }
    },
    {
      "cell_type": "code",
      "source": [
        "preprocessed_data = trigram_model.load_and_preprocess_data(file_path)\n",
        "trigram_model.calculate_trigram_probs(preprocessed_data)\n",
        "print(\"Generated Text:\")\n",
        "print(trigram_model.generate_text(length=100))"
      ],
      "metadata": {
        "colab": {
          "base_uri": "https://localhost:8080/"
        },
        "id": "-uaUX6g0pcOU",
        "outputId": "a17b4239-bcd8-47e3-d9c5-f587496418c0"
      },
      "execution_count": 4,
      "outputs": [
        {
          "output_type": "stream",
          "name": "stdout",
          "text": [
            "Generated Text:\n",
            "made his international debut in an odi that year, a single-season record he holds as of 2023. unfortunately, rcb lost in the way of runs, but he had some standout performances after his promotion to vice captain in 2013 and continued to lead rcb in the next eight seasons. he was named to the icc men’s team of the ipl, but rcb’s lack of titles has frustrated his fans. awards kohli received the arjuna award, india’s second highest sporting honor, from the cricketing world and governing bodies as well. his 133 not out versus sri lanka in the commonwealth bank series\n"
          ]
        }
      ]
    },
    {
      "cell_type": "code",
      "source": [],
      "metadata": {
        "id": "1VDOCPm2pfYn"
      },
      "execution_count": 4,
      "outputs": []
    }
  ]
}