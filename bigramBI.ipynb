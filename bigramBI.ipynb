{
  "nbformat": 4,
  "nbformat_minor": 0,
  "metadata": {
    "colab": {
      "provenance": [],
      "authorship_tag": "ABX9TyMc+cPDmNTJDPEvYAr4upUv",
      "include_colab_link": true
    },
    "kernelspec": {
      "name": "python3",
      "display_name": "Python 3"
    },
    "language_info": {
      "name": "python"
    }
  },
  "cells": [
    {
      "cell_type": "markdown",
      "metadata": {
        "id": "view-in-github",
        "colab_type": "text"
      },
      "source": [
        "<a href=\"https://colab.research.google.com/github/rahulvenkat207/ngramModel/blob/main/bigramBI.ipynb\" target=\"_parent\"><img src=\"https://colab.research.google.com/assets/colab-badge.svg\" alt=\"Open In Colab\"/></a>"
      ]
    },
    {
      "cell_type": "code",
      "execution_count": 1,
      "metadata": {
        "id": "k8X6yEumnbWx"
      },
      "outputs": [],
      "source": [
        "import random"
      ]
    },
    {
      "cell_type": "code",
      "source": [
        "class BigramModel:\n",
        "    def __init__(self):\n",
        "        self.bigram_probs = {}\n",
        "\n",
        "    def preprocess_text(self, text):\n",
        "        # Convert text to lowercase\n",
        "        text = text.lower()\n",
        "        words = text.split()\n",
        "        return words\n",
        "\n",
        "    def load_and_preprocess_data(self, file_path):\n",
        "        with open(file_path, 'r') as file:\n",
        "            text = file.read()\n",
        "            preprocessed_text = self.preprocess_text(text)\n",
        "            return preprocessed_text\n",
        "\n",
        "    def calculate_bigram_probs(self, words):\n",
        "        bigrams = [(words[i], words[i + 1]) for i in range(len(words) - 1)]\n",
        "        bigram_counts = {}\n",
        "\n",
        "        # Count occurrences of each bigram\n",
        "        for bigram in bigrams:\n",
        "            if bigram in bigram_counts:\n",
        "                bigram_counts[bigram] += 1\n",
        "            else:\n",
        "                bigram_counts[bigram] = 1\n",
        "\n",
        "        # Calculate probabilities\n",
        "        total_bigrams = sum(bigram_counts.values())\n",
        "        for bigram, count in bigram_counts.items():\n",
        "            self.bigram_probs[bigram] = count / total_bigrams\n",
        "\n",
        "    def generate_text(self, length=100):\n",
        "\n",
        "        # Choose a random starting bigram\n",
        "        current_bigram = random.choice(list(self.bigram_probs.keys()))\n",
        "        print(current_bigram[0], current_bigram[1], end='', sep=' ')\n",
        "\n",
        "        # Generate subsequent words based on bigram probabilities\n",
        "        for _ in range(length - 1):\n",
        "            next_word_candidates = [bigram[1] for bigram in self.bigram_probs if bigram[0] == current_bigram[1]]\n",
        "            if not next_word_candidates:\n",
        "                break\n",
        "            next_word = random.choices(next_word_candidates, weights=[self.bigram_probs[(current_bigram[1], word)] for word in next_word_candidates], k=1)[0]\n",
        "            print(next_word, end=' ')\n",
        "            current_bigram = (current_bigram[1], next_word)\n",
        "        print()\n"
      ],
      "metadata": {
        "id": "SzOFs3pAn7hx"
      },
      "execution_count": 2,
      "outputs": []
    },
    {
      "cell_type": "code",
      "source": [
        "file_path = \"/content/vk18.txt\" # Change this to your corpus file path\n",
        "bigram_model = BigramModel()"
      ],
      "metadata": {
        "id": "hIz4EmQWoERo"
      },
      "execution_count": 3,
      "outputs": []
    },
    {
      "cell_type": "code",
      "source": [
        "preprocessed_data = bigram_model.load_and_preprocess_data(file_path)\n",
        "bigram_model.calculate_bigram_probs(preprocessed_data)\n",
        "print(\"Generated Bigrams:\")\n",
        "bigram_model.generate_text(length=100)\n"
      ],
      "metadata": {
        "colab": {
          "base_uri": "https://localhost:8080/"
        },
        "id": "GgHfSNXaopGu",
        "outputId": "e133bf83-af48-4a50-c230-69826d3b9d57"
      },
      "execution_count": 4,
      "outputs": [
        {
          "output_type": "stream",
          "name": "stdout",
          "text": [
            "Generated Bigrams:\n",
            "four playerseach. kohli was retained once again in an odi team selectors’ minds. get a one-day match against services (a team of the icc test player to faf du plessis has since captained the only player to the icc test player of titles has since captained the commonwealth bank series in all three formats, having the league final but relinquished the league final to the delhi cricket academy, created in the ipl, but struggled to four players tournament in 2022 he made the royal challengers bangalore throughout his t20 domestic debut for the icc t20i team and feature two seasons \n"
          ]
        }
      ]
    },
    {
      "cell_type": "code",
      "source": [],
      "metadata": {
        "id": "BYVxZL46owuK"
      },
      "execution_count": 4,
      "outputs": []
    }
  ]
}